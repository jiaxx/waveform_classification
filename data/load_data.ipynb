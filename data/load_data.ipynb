{
 "cells": [
  {
   "cell_type": "code",
   "execution_count": 16,
   "metadata": {},
   "outputs": [],
   "source": [
    "import numpy as np\n",
    "import pandas as pd\n",
    "import matplotlib.pyplot as plt\n",
    "%matplotlib inline\n"
   ]
  },
  {
   "cell_type": "code",
   "execution_count": 3,
   "metadata": {},
   "outputs": [],
   "source": [
    "df = pd.read_csv('/Users/xiaoxuanj/work/work_allen/Ephys/waveform_classification/data/waveform_classification_summary_data_features.csv', sep='\\t', index_col=0)"
   ]
  },
  {
   "cell_type": "code",
   "execution_count": 4,
   "metadata": {},
   "outputs": [
    {
     "data": {
      "text/html": [
       "<div>\n",
       "<style scoped>\n",
       "    .dataframe tbody tr th:only-of-type {\n",
       "        vertical-align: middle;\n",
       "    }\n",
       "\n",
       "    .dataframe tbody tr th {\n",
       "        vertical-align: top;\n",
       "    }\n",
       "\n",
       "    .dataframe thead th {\n",
       "        text-align: right;\n",
       "    }\n",
       "</style>\n",
       "<table border=\"1\" class=\"dataframe\">\n",
       "  <thead>\n",
       "    <tr style=\"text-align: right;\">\n",
       "      <th></th>\n",
       "      <th>Below_soma</th>\n",
       "      <th>Above_soma</th>\n",
       "      <th>Spread</th>\n",
       "      <th>Amplitude</th>\n",
       "      <th>Duration</th>\n",
       "      <th>PTratio</th>\n",
       "      <th>RSlope</th>\n",
       "      <th>CSlope</th>\n",
       "      <th>FSRS</th>\n",
       "      <th>ID</th>\n",
       "      <th>File</th>\n",
       "      <th>area</th>\n",
       "      <th>new_type</th>\n",
       "      <th>area_id</th>\n",
       "      <th>within_labels</th>\n",
       "    </tr>\n",
       "  </thead>\n",
       "  <tbody>\n",
       "    <tr>\n",
       "      <th>1</th>\n",
       "      <td>1.166667</td>\n",
       "      <td>2.666667</td>\n",
       "      <td>7</td>\n",
       "      <td>0.047439</td>\n",
       "      <td>0.425796</td>\n",
       "      <td>0.224925</td>\n",
       "      <td>0.041211</td>\n",
       "      <td>-0.044581</td>\n",
       "      <td>0.0</td>\n",
       "      <td>143</td>\n",
       "      <td>0</td>\n",
       "      <td>V1</td>\n",
       "      <td>rs</td>\n",
       "      <td>7.0</td>\n",
       "      <td>1.0</td>\n",
       "    </tr>\n",
       "    <tr>\n",
       "      <th>2</th>\n",
       "      <td>-3.833333</td>\n",
       "      <td>0.833333</td>\n",
       "      <td>8</td>\n",
       "      <td>0.048494</td>\n",
       "      <td>0.302178</td>\n",
       "      <td>0.751777</td>\n",
       "      <td>0.042935</td>\n",
       "      <td>-0.207889</td>\n",
       "      <td>1.0</td>\n",
       "      <td>140</td>\n",
       "      <td>0</td>\n",
       "      <td>V1</td>\n",
       "      <td>fs</td>\n",
       "      <td>7.0</td>\n",
       "      <td>0.0</td>\n",
       "    </tr>\n",
       "    <tr>\n",
       "      <th>3</th>\n",
       "      <td>0.833333</td>\n",
       "      <td>0.666667</td>\n",
       "      <td>10</td>\n",
       "      <td>0.072349</td>\n",
       "      <td>0.673032</td>\n",
       "      <td>0.397595</td>\n",
       "      <td>0.071316</td>\n",
       "      <td>-0.062895</td>\n",
       "      <td>0.0</td>\n",
       "      <td>124</td>\n",
       "      <td>0</td>\n",
       "      <td>V1</td>\n",
       "      <td>rs</td>\n",
       "      <td>7.0</td>\n",
       "      <td>1.0</td>\n",
       "    </tr>\n",
       "    <tr>\n",
       "      <th>4</th>\n",
       "      <td>2.000000</td>\n",
       "      <td>1.166667</td>\n",
       "      <td>8</td>\n",
       "      <td>0.163006</td>\n",
       "      <td>0.686767</td>\n",
       "      <td>0.406901</td>\n",
       "      <td>0.142921</td>\n",
       "      <td>-0.267282</td>\n",
       "      <td>0.0</td>\n",
       "      <td>119</td>\n",
       "      <td>0</td>\n",
       "      <td>V1</td>\n",
       "      <td>rs</td>\n",
       "      <td>7.0</td>\n",
       "      <td>1.0</td>\n",
       "    </tr>\n",
       "    <tr>\n",
       "      <th>5</th>\n",
       "      <td>0.000000</td>\n",
       "      <td>2.321429</td>\n",
       "      <td>9</td>\n",
       "      <td>0.091047</td>\n",
       "      <td>0.164824</td>\n",
       "      <td>0.519036</td>\n",
       "      <td>0.035709</td>\n",
       "      <td>-0.447084</td>\n",
       "      <td>1.0</td>\n",
       "      <td>133</td>\n",
       "      <td>0</td>\n",
       "      <td>V1</td>\n",
       "      <td>fs</td>\n",
       "      <td>7.0</td>\n",
       "      <td>0.0</td>\n",
       "    </tr>\n",
       "    <tr>\n",
       "      <th>...</th>\n",
       "      <td>...</td>\n",
       "      <td>...</td>\n",
       "      <td>...</td>\n",
       "      <td>...</td>\n",
       "      <td>...</td>\n",
       "      <td>...</td>\n",
       "      <td>...</td>\n",
       "      <td>...</td>\n",
       "      <td>...</td>\n",
       "      <td>...</td>\n",
       "      <td>...</td>\n",
       "      <td>...</td>\n",
       "      <td>...</td>\n",
       "      <td>...</td>\n",
       "      <td>...</td>\n",
       "    </tr>\n",
       "    <tr>\n",
       "      <th>111</th>\n",
       "      <td>0.000000</td>\n",
       "      <td>0.833333</td>\n",
       "      <td>5</td>\n",
       "      <td>0.407137</td>\n",
       "      <td>0.221106</td>\n",
       "      <td>0.429924</td>\n",
       "      <td>0.171439</td>\n",
       "      <td>-0.201291</td>\n",
       "      <td>0.0</td>\n",
       "      <td>154</td>\n",
       "      <td>0</td>\n",
       "      <td>Ce</td>\n",
       "      <td>fs</td>\n",
       "      <td>1.0</td>\n",
       "      <td>0.0</td>\n",
       "    </tr>\n",
       "    <tr>\n",
       "      <th>117</th>\n",
       "      <td>-0.833333</td>\n",
       "      <td>0.833333</td>\n",
       "      <td>5</td>\n",
       "      <td>0.203964</td>\n",
       "      <td>0.190955</td>\n",
       "      <td>0.711243</td>\n",
       "      <td>0.141335</td>\n",
       "      <td>-0.316302</td>\n",
       "      <td>0.0</td>\n",
       "      <td>141</td>\n",
       "      <td>0</td>\n",
       "      <td>Ce</td>\n",
       "      <td>fs</td>\n",
       "      <td>1.0</td>\n",
       "      <td>0.0</td>\n",
       "    </tr>\n",
       "    <tr>\n",
       "      <th>118</th>\n",
       "      <td>-0.380952</td>\n",
       "      <td>0.333333</td>\n",
       "      <td>10</td>\n",
       "      <td>0.121787</td>\n",
       "      <td>0.251256</td>\n",
       "      <td>0.385120</td>\n",
       "      <td>0.134375</td>\n",
       "      <td>-0.192224</td>\n",
       "      <td>0.0</td>\n",
       "      <td>46</td>\n",
       "      <td>0</td>\n",
       "      <td>Ce</td>\n",
       "      <td>rs</td>\n",
       "      <td>1.0</td>\n",
       "      <td>1.0</td>\n",
       "    </tr>\n",
       "    <tr>\n",
       "      <th>119</th>\n",
       "      <td>-0.833333</td>\n",
       "      <td>0.500000</td>\n",
       "      <td>6</td>\n",
       "      <td>0.510367</td>\n",
       "      <td>0.351759</td>\n",
       "      <td>0.169921</td>\n",
       "      <td>0.029489</td>\n",
       "      <td>-0.607981</td>\n",
       "      <td>1.0</td>\n",
       "      <td>157</td>\n",
       "      <td>0</td>\n",
       "      <td>Ce</td>\n",
       "      <td>rs</td>\n",
       "      <td>1.0</td>\n",
       "      <td>1.0</td>\n",
       "    </tr>\n",
       "    <tr>\n",
       "      <th>120</th>\n",
       "      <td>-0.238095</td>\n",
       "      <td>-0.500000</td>\n",
       "      <td>10</td>\n",
       "      <td>0.246464</td>\n",
       "      <td>0.201005</td>\n",
       "      <td>0.313480</td>\n",
       "      <td>0.450021</td>\n",
       "      <td>-0.320601</td>\n",
       "      <td>0.0</td>\n",
       "      <td>232</td>\n",
       "      <td>0</td>\n",
       "      <td>Ce</td>\n",
       "      <td>rs</td>\n",
       "      <td>1.0</td>\n",
       "      <td>1.0</td>\n",
       "    </tr>\n",
       "  </tbody>\n",
       "</table>\n",
       "<p>2818 rows × 15 columns</p>\n",
       "</div>"
      ],
      "text/plain": [
       "     Below_soma  Above_soma  Spread  Amplitude  Duration   PTratio    RSlope  \\\n",
       "1      1.166667    2.666667       7   0.047439  0.425796  0.224925  0.041211   \n",
       "2     -3.833333    0.833333       8   0.048494  0.302178  0.751777  0.042935   \n",
       "3      0.833333    0.666667      10   0.072349  0.673032  0.397595  0.071316   \n",
       "4      2.000000    1.166667       8   0.163006  0.686767  0.406901  0.142921   \n",
       "5      0.000000    2.321429       9   0.091047  0.164824  0.519036  0.035709   \n",
       "..          ...         ...     ...        ...       ...       ...       ...   \n",
       "111    0.000000    0.833333       5   0.407137  0.221106  0.429924  0.171439   \n",
       "117   -0.833333    0.833333       5   0.203964  0.190955  0.711243  0.141335   \n",
       "118   -0.380952    0.333333      10   0.121787  0.251256  0.385120  0.134375   \n",
       "119   -0.833333    0.500000       6   0.510367  0.351759  0.169921  0.029489   \n",
       "120   -0.238095   -0.500000      10   0.246464  0.201005  0.313480  0.450021   \n",
       "\n",
       "       CSlope  FSRS   ID  File area new_type  area_id  within_labels  \n",
       "1   -0.044581   0.0  143     0   V1       rs      7.0            1.0  \n",
       "2   -0.207889   1.0  140     0   V1       fs      7.0            0.0  \n",
       "3   -0.062895   0.0  124     0   V1       rs      7.0            1.0  \n",
       "4   -0.267282   0.0  119     0   V1       rs      7.0            1.0  \n",
       "5   -0.447084   1.0  133     0   V1       fs      7.0            0.0  \n",
       "..        ...   ...  ...   ...  ...      ...      ...            ...  \n",
       "111 -0.201291   0.0  154     0   Ce       fs      1.0            0.0  \n",
       "117 -0.316302   0.0  141     0   Ce       fs      1.0            0.0  \n",
       "118 -0.192224   0.0   46     0   Ce       rs      1.0            1.0  \n",
       "119 -0.607981   1.0  157     0   Ce       rs      1.0            1.0  \n",
       "120 -0.320601   0.0  232     0   Ce       rs      1.0            1.0  \n",
       "\n",
       "[2818 rows x 15 columns]"
      ]
     },
     "execution_count": 4,
     "metadata": {},
     "output_type": "execute_result"
    }
   ],
   "source": [
    "df"
   ]
  },
  {
   "cell_type": "code",
   "execution_count": 6,
   "metadata": {},
   "outputs": [
    {
     "data": {
      "text/plain": [
       "array([143, 140, 124, 119, 133, 110, 102, 110,  95, 113, 105, 113, 109,\n",
       "       110, 100, 146, 136,  87, 130,  90, 146,  93,  81,  69,  74,  60,\n",
       "        89,  91,  70,  73,  45,  45,  72,  92,  78, 118, 100, 111,  86,\n",
       "        82,  70,  92,  98,  77,  72,  72,  81,  88,  51,  85,  56, 108,\n",
       "        73,  94,  46,  79,  46,  52,  65,  50,  52,  47,  74, 110,  76,\n",
       "        72,  79,  66,  97,  97,  66,  91,  70,  97,  82,  69,  89, 121,\n",
       "       100,  98, 106,  94,  80, 111, 101,  98,  85, 117,  74, 111,  98,\n",
       "       101,  98, 110,  95, 105, 108,  77, 110, 109])"
      ]
     },
     "execution_count": 6,
     "metadata": {},
     "output_type": "execute_result"
    }
   ],
   "source": [
    "df.ID.values[:100]"
   ]
  },
  {
   "cell_type": "code",
   "execution_count": 10,
   "metadata": {},
   "outputs": [
    {
     "data": {
      "text/plain": [
       "array([1., 0., 2.])"
      ]
     },
     "execution_count": 10,
     "metadata": {},
     "output_type": "execute_result"
    }
   ],
   "source": [
    "# within area clustering\n",
    "df.within_labels.unique()"
   ]
  },
  {
   "cell_type": "code",
   "execution_count": 9,
   "metadata": {},
   "outputs": [],
   "source": [
    "waveform_1D = np.load('/Users/xiaoxuanj/work/work_allen/Ephys/waveform_classification/data/waveform_classification_summary_data_1Dwaveform.npy')"
   ]
  },
  {
   "cell_type": "code",
   "execution_count": 10,
   "metadata": {},
   "outputs": [
    {
     "data": {
      "text/plain": [
       "(2818, 60)"
      ]
     },
     "execution_count": 10,
     "metadata": {},
     "output_type": "execute_result"
    }
   ],
   "source": [
    "waveform_1D.shape"
   ]
  },
  {
   "cell_type": "code",
   "execution_count": 11,
   "metadata": {},
   "outputs": [],
   "source": [
    "waveform_2D = np.load('/Users/xiaoxuanj/work/work_allen/Ephys/waveform_classification/data/waveform_classification_summary_data_2Dwaveform.npy')"
   ]
  },
  {
   "cell_type": "code",
   "execution_count": 12,
   "metadata": {},
   "outputs": [
    {
     "data": {
      "text/plain": [
       "(2818, 60, 30)"
      ]
     },
     "execution_count": 12,
     "metadata": {},
     "output_type": "execute_result"
    }
   ],
   "source": [
    "waveform_2D.shape"
   ]
  },
  {
   "cell_type": "code",
   "execution_count": 17,
   "metadata": {},
   "outputs": [
    {
     "data": {
      "text/plain": [
       "<matplotlib.image.AxesImage at 0x7fe04c5a0400>"
      ]
     },
     "execution_count": 17,
     "metadata": {},
     "output_type": "execute_result"
    },
    {
     "data": {
      "image/png": "[encoded data removed]",
      "text/plain": [
       "<Figure size 432x288 with 1 Axes>"
      ]
     },
     "metadata": {
      "needs_background": "light"
     },
     "output_type": "display_data"
    }
   ],
   "source": [
    "plt.imshow(waveform_2D[0,:,:])"
   ]
  },
  {
   "cell_type": "code",
   "execution_count": null,
   "metadata": {},
   "outputs": [],
   "source": []
  }
 ],
 "metadata": {
  "kernelspec": {
   "display_name": "Python 3",
   "language": "python",
   "name": "python3"
  },
  "language_info": {
   "codemirror_mode": {
    "name": "ipython",
    "version": 3
   },
   "file_extension": ".py",
   "mimetype": "text/x-python",
   "name": "python",
   "nbconvert_exporter": "python",
   "pygments_lexer": "ipython3",
   "version": "3.6.10"
  }
 },
 "nbformat": 4,
 "nbformat_minor": 4
}
